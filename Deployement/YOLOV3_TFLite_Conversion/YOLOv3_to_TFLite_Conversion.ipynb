{
  "nbformat": 4,
  "nbformat_minor": 0,
  "metadata": {
    "colab": {
      "name": "YOLOv3_to_TFLite_Conversion.ipynb",
      "provenance": [],
      "collapsed_sections": []
    },
    "kernelspec": {
      "name": "python3",
      "display_name": "Python 3"
    }
  },
  "cells": [
    {
      "cell_type": "markdown",
      "metadata": {
        "id": "jpAVPuboaIhd"
      },
      "source": [
        "**Step 1: Setup TensorFlow 1.x**"
      ]
    },
    {
      "cell_type": "code",
      "metadata": {
        "id": "XB3UqS5baHy_",
        "colab": {
          "base_uri": "https://localhost:8080/"
        },
        "outputId": "0b58d38c-cd89-4b4f-d785-70cf0d363cd3"
      },
      "source": [
        "%tensorflow_version 1.x"
      ],
      "execution_count": null,
      "outputs": [
        {
          "output_type": "stream",
          "name": "stdout",
          "text": [
            "TensorFlow 1.x selected.\n"
          ]
        }
      ]
    },
    {
      "cell_type": "code",
      "metadata": {
        "id": "NQ3qDgLGQhFN",
        "colab": {
          "base_uri": "https://localhost:8080/"
        },
        "outputId": "78cbbcff-1aae-4d41-9d3e-99e0c0e53d06"
      },
      "source": [
        "import tensorflow as tf\n",
        "print(tf.__version__)"
      ],
      "execution_count": null,
      "outputs": [
        {
          "output_type": "stream",
          "name": "stdout",
          "text": [
            "1.15.2\n"
          ]
        }
      ]
    },
    {
      "cell_type": "markdown",
      "metadata": {
        "id": "qzO1xAfrZ-Wj"
      },
      "source": [
        "**Step 2: Clone the tensorflow-yolo-v3 repository**"
      ]
    },
    {
      "cell_type": "code",
      "metadata": {
        "id": "cotKV7UhZpBI",
        "colab": {
          "base_uri": "https://localhost:8080/"
        },
        "outputId": "6869b97c-fe83-4a71-e837-8f2959221685"
      },
      "source": [
        "# Clone\n",
        "!git clone https://github.com/mystic123/tensorflow-yolo-v3"
      ],
      "execution_count": null,
      "outputs": [
        {
          "output_type": "stream",
          "name": "stdout",
          "text": [
            "Cloning into 'tensorflow-yolo-v3'...\n",
            "remote: Enumerating objects: 226, done.\u001b[K\n",
            "remote: Counting objects: 100% (7/7), done.\u001b[K\n",
            "remote: Compressing objects: 100% (7/7), done.\u001b[K\n",
            "remote: Total 226 (delta 2), reused 2 (delta 0), pack-reused 219\u001b[K\n",
            "Receiving objects: 100% (226/226), 63.05 KiB | 1.58 MiB/s, done.\n",
            "Resolving deltas: 100% (114/114), done.\n"
          ]
        }
      ]
    },
    {
      "cell_type": "markdown",
      "metadata": {
        "id": "LBGY4wNjdZpV"
      },
      "source": [
        "**Step 3a: Mount Google Drive**"
      ]
    },
    {
      "cell_type": "code",
      "metadata": {
        "id": "w8G-Y7Y2dgzE",
        "colab": {
          "base_uri": "https://localhost:8080/"
        },
        "outputId": "15747aac-b8c0-4d70-ac62-3e23b809fa10"
      },
      "source": [
        "from google.colab import drive\n",
        "drive.mount('/content/gdrive')\n",
        "!ln -s /content/gdrive/My\\ Drive/ /mydrive\n",
        "!ls /mydrive"
      ],
      "execution_count": null,
      "outputs": [
        {
          "output_type": "stream",
          "name": "stdout",
          "text": [
            "Mounted at /content/gdrive\n",
            " AIMLProject3\t    test.csv\t\t     'Website flow.png'\n",
            "'Colab Notebooks'   train.csv\t\t      YOLOv3_TFLite\n",
            " Prediction.ipynb  'Untitled document.gdoc'\n"
          ]
        }
      ]
    },
    {
      "cell_type": "markdown",
      "metadata": {
        "id": "08Tx_JntayAM"
      },
      "source": [
        "**Step 3b: Navigate to tensorflow-yolo-v3 repository**"
      ]
    },
    {
      "cell_type": "code",
      "metadata": {
        "id": "UwJc6V0Kas2a",
        "colab": {
          "base_uri": "https://localhost:8080/"
        },
        "outputId": "c2f83c33-d9ac-46d3-cd86-e00246e7b1fe"
      },
      "source": [
        "%cd tensorflow-yolo-v3/"
      ],
      "execution_count": null,
      "outputs": [
        {
          "output_type": "stream",
          "name": "stdout",
          "text": [
            "/content/tensorflow-yolo-v3\n"
          ]
        }
      ]
    },
    {
      "cell_type": "markdown",
      "metadata": {
        "id": "m_pVLb1Fa7j_"
      },
      "source": [
        "**Step 4: Download .weights and .classes files**"
      ]
    },
    {
      "cell_type": "code",
      "metadata": {
        "id": "0sI-m0JsLtNJ",
        "colab": {
          "base_uri": "https://localhost:8080/"
        },
        "outputId": "7011b128-2f7e-4300-ee5b-4bf3509f717c"
      },
      "source": [
        "!gdown --id 1AzD7m1gXN1e_RGwxdKH2kQnykuKCzThy  #classes.txt\n",
        "!gdown --id 1pqMn_pH-b4VwpO0_HYFImPY4nKKd2fX0  #yolov3_training_last.weights"
      ],
      "execution_count": null,
      "outputs": [
        {
          "output_type": "stream",
          "name": "stdout",
          "text": [
            "Downloading...\n",
            "From: https://drive.google.com/uc?id=1AzD7m1gXN1e_RGwxdKH2kQnykuKCzThy\n",
            "To: /content/tensorflow-yolo-v3/classes.txt\n",
            "100% 72.0/72.0 [00:00<00:00, 115kB/s]\n",
            "Downloading...\n",
            "From: https://drive.google.com/uc?id=1pqMn_pH-b4VwpO0_HYFImPY4nKKd2fX0\n",
            "To: /content/tensorflow-yolo-v3/yolov3-tiny-bdd100k_last.weights\n",
            "100% 34.8M/34.8M [00:01<00:00, 22.9MB/s]\n"
          ]
        }
      ]
    },
    {
      "cell_type": "markdown",
      "metadata": {
        "id": "uZ2FhhLNa65R"
      },
      "source": [
        "**Step 5: Convert YOLOv3 .weights to .pb**"
      ]
    },
    {
      "cell_type": "code",
      "metadata": {
        "id": "ejvLzFgCauNQ"
      },
      "source": [
        "#!python convert_weights_pb.py --class_names \"classes.txt\" --weights_file \"yolov3-tiny-bdd100k_last.weights\" --data_format \"NHWC\" "
      ],
      "execution_count": null,
      "outputs": []
    },
    {
      "cell_type": "code",
      "source": [
        "!python3 convert_weights_pb.py --class_names \"classes.txt\" --data_format NHWC --weights_file \"yolov3-tiny-bdd100k_last.weights\" --tiny"
      ],
      "metadata": {
        "colab": {
          "base_uri": "https://localhost:8080/"
        },
        "id": "Np1qSfM8NBbC",
        "outputId": "397d5d02-4d86-4392-b917-5a3108d1c2bf"
      },
      "execution_count": null,
      "outputs": [
        {
          "output_type": "stream",
          "name": "stdout",
          "text": [
            "WARNING:tensorflow:\n",
            "The TensorFlow contrib module will not be included in TensorFlow 2.0.\n",
            "For more information, please see:\n",
            "  * https://github.com/tensorflow/community/blob/master/rfcs/20180907-contrib-sunset.md\n",
            "  * https://github.com/tensorflow/addons\n",
            "  * https://github.com/tensorflow/io (for I/O related ops)\n",
            "If you depend on functionality not listed there, please file an issue.\n",
            "\n",
            "WARNING:tensorflow:From convert_weights_pb.py:56: The name tf.app.run is deprecated. Please use tf.compat.v1.app.run instead.\n",
            "\n",
            "WARNING:tensorflow:From convert_weights_pb.py:42: The name tf.placeholder is deprecated. Please use tf.compat.v1.placeholder instead.\n",
            "\n",
            "W0130 04:18:14.601224 140717583611776 module_wrapper.py:139] From convert_weights_pb.py:42: The name tf.placeholder is deprecated. Please use tf.compat.v1.placeholder instead.\n",
            "\n",
            "WARNING:tensorflow:From convert_weights_pb.py:44: The name tf.variable_scope is deprecated. Please use tf.compat.v1.variable_scope instead.\n",
            "\n",
            "W0130 04:18:14.603292 140717583611776 module_wrapper.py:139] From convert_weights_pb.py:44: The name tf.variable_scope is deprecated. Please use tf.compat.v1.variable_scope instead.\n",
            "\n",
            "WARNING:tensorflow:From /tensorflow-1.15.2/python3.7/tensorflow_core/contrib/layers/python/layers/layers.py:1057: Layer.apply (from tensorflow.python.keras.engine.base_layer) is deprecated and will be removed in a future version.\n",
            "Instructions for updating:\n",
            "Please use `layer.__call__` method instead.\n",
            "W0130 04:18:14.606392 140717583611776 deprecation.py:323] From /tensorflow-1.15.2/python3.7/tensorflow_core/contrib/layers/python/layers/layers.py:1057: Layer.apply (from tensorflow.python.keras.engine.base_layer) is deprecated and will be removed in a future version.\n",
            "Instructions for updating:\n",
            "Please use `layer.__call__` method instead.\n",
            "WARNING:tensorflow:From /content/tensorflow-yolo-v3/yolo_v3.py:193: The name tf.image.resize_nearest_neighbor is deprecated. Please use tf.compat.v1.image.resize_nearest_neighbor instead.\n",
            "\n",
            "W0130 04:18:14.969618 140717583611776 module_wrapper.py:139] From /content/tensorflow-yolo-v3/yolo_v3.py:193: The name tf.image.resize_nearest_neighbor is deprecated. Please use tf.compat.v1.image.resize_nearest_neighbor instead.\n",
            "\n",
            "WARNING:tensorflow:From convert_weights_pb.py:46: The name tf.global_variables is deprecated. Please use tf.compat.v1.global_variables instead.\n",
            "\n",
            "W0130 04:18:15.049218 140717583611776 module_wrapper.py:139] From convert_weights_pb.py:46: The name tf.global_variables is deprecated. Please use tf.compat.v1.global_variables instead.\n",
            "\n",
            "WARNING:tensorflow:From /content/tensorflow-yolo-v3/utils.py:93: The name tf.assign is deprecated. Please use tf.compat.v1.assign instead.\n",
            "\n",
            "W0130 04:18:15.067140 140717583611776 module_wrapper.py:139] From /content/tensorflow-yolo-v3/utils.py:93: The name tf.assign is deprecated. Please use tf.compat.v1.assign instead.\n",
            "\n",
            "WARNING:tensorflow:From convert_weights_pb.py:51: The name tf.Session is deprecated. Please use tf.compat.v1.Session instead.\n",
            "\n",
            "W0130 04:18:15.429891 140717583611776 module_wrapper.py:139] From convert_weights_pb.py:51: The name tf.Session is deprecated. Please use tf.compat.v1.Session instead.\n",
            "\n",
            "2022-01-30 04:18:15.460425: I tensorflow/stream_executor/platform/default/dso_loader.cc:44] Successfully opened dynamic library libcuda.so.1\n",
            "2022-01-30 04:18:15.518295: E tensorflow/stream_executor/cuda/cuda_driver.cc:318] failed call to cuInit: CUDA_ERROR_NO_DEVICE: no CUDA-capable device is detected\n",
            "2022-01-30 04:18:15.518402: I tensorflow/stream_executor/cuda/cuda_diagnostics.cc:156] kernel driver does not appear to be running on this host (3e362a710478): /proc/driver/nvidia/version does not exist\n",
            "2022-01-30 04:18:15.531723: I tensorflow/core/platform/profile_utils/cpu_utils.cc:94] CPU Frequency: 2200215000 Hz\n",
            "2022-01-30 04:18:15.532171: I tensorflow/compiler/xla/service/service.cc:168] XLA service 0x557e387b0d80 initialized for platform Host (this does not guarantee that XLA will be used). Devices:\n",
            "2022-01-30 04:18:15.532227: I tensorflow/compiler/xla/service/service.cc:176]   StreamExecutor device (0): Host, Default Version\n",
            "WARNING:tensorflow:From /content/tensorflow-yolo-v3/utils.py:52: The name tf.get_default_graph is deprecated. Please use tf.compat.v1.get_default_graph instead.\n",
            "\n",
            "W0130 04:18:15.964814 140717583611776 module_wrapper.py:139] From /content/tensorflow-yolo-v3/utils.py:52: The name tf.get_default_graph is deprecated. Please use tf.compat.v1.get_default_graph instead.\n",
            "\n",
            "WARNING:tensorflow:From /content/tensorflow-yolo-v3/utils.py:53: convert_variables_to_constants (from tensorflow.python.framework.graph_util_impl) is deprecated and will be removed in a future version.\n",
            "Instructions for updating:\n",
            "Use `tf.compat.v1.graph_util.convert_variables_to_constants`\n",
            "W0130 04:18:16.063121 140717583611776 deprecation.py:323] From /content/tensorflow-yolo-v3/utils.py:53: convert_variables_to_constants (from tensorflow.python.framework.graph_util_impl) is deprecated and will be removed in a future version.\n",
            "Instructions for updating:\n",
            "Use `tf.compat.v1.graph_util.convert_variables_to_constants`\n",
            "WARNING:tensorflow:From /tensorflow-1.15.2/python3.7/tensorflow_core/python/framework/graph_util_impl.py:277: extract_sub_graph (from tensorflow.python.framework.graph_util_impl) is deprecated and will be removed in a future version.\n",
            "Instructions for updating:\n",
            "Use `tf.compat.v1.graph_util.extract_sub_graph`\n",
            "W0130 04:18:16.063520 140717583611776 deprecation.py:323] From /tensorflow-1.15.2/python3.7/tensorflow_core/python/framework/graph_util_impl.py:277: extract_sub_graph (from tensorflow.python.framework.graph_util_impl) is deprecated and will be removed in a future version.\n",
            "Instructions for updating:\n",
            "Use `tf.compat.v1.graph_util.extract_sub_graph`\n",
            "INFO:tensorflow:Froze 59 variables.\n",
            "I0130 04:18:16.126881 140717583611776 graph_util_impl.py:334] Froze 59 variables.\n",
            "INFO:tensorflow:Converted 59 variables to const ops.\n",
            "I0130 04:18:16.191066 140717583611776 graph_util_impl.py:394] Converted 59 variables to const ops.\n",
            "WARNING:tensorflow:From /content/tensorflow-yolo-v3/utils.py:56: The name tf.gfile.GFile is deprecated. Please use tf.io.gfile.GFile instead.\n",
            "\n",
            "W0130 04:18:16.195278 140717583611776 module_wrapper.py:139] From /content/tensorflow-yolo-v3/utils.py:56: The name tf.gfile.GFile is deprecated. Please use tf.io.gfile.GFile instead.\n",
            "\n",
            "299 ops written to frozen_darknet_yolov3_model.pb.\n"
          ]
        }
      ]
    },
    {
      "cell_type": "markdown",
      "metadata": {
        "id": "zaqOLAKCRzXR"
      },
      "source": [
        "**Step 6a: Restart runtime**\n",
        "\n",
        "Click on Runtime on the menu bar and select **Restart runtime.**"
      ]
    },
    {
      "cell_type": "markdown",
      "metadata": {
        "id": "uzIegyxtG036"
      },
      "source": [
        "**Step 6b: Setup TensorFlow 2.x**"
      ]
    },
    {
      "cell_type": "code",
      "metadata": {
        "id": "fqPnFp40G4LK"
      },
      "source": [
        "%tensorflow_version 2.x"
      ],
      "execution_count": null,
      "outputs": []
    },
    {
      "cell_type": "code",
      "metadata": {
        "id": "ZxxCUjPSG8MK",
        "colab": {
          "base_uri": "https://localhost:8080/"
        },
        "outputId": "6d6fd179-1169-49b3-eec4-875cdf7ed2e2"
      },
      "source": [
        "import tensorflow as tf\n",
        "print(tf.__version__)"
      ],
      "execution_count": null,
      "outputs": [
        {
          "output_type": "stream",
          "name": "stdout",
          "text": [
            "2.7.0\n"
          ]
        }
      ]
    },
    {
      "cell_type": "code",
      "metadata": {
        "id": "jyVdQnElHJ9X"
      },
      "source": [
        "import tempfile\n",
        "import os\n",
        "import glob"
      ],
      "execution_count": null,
      "outputs": []
    },
    {
      "cell_type": "markdown",
      "metadata": {
        "id": "GOgfmKxQHuKz"
      },
      "source": [
        "**Step 7a: Navigate to tensorflow-yolo-v3 repository**"
      ]
    },
    {
      "cell_type": "code",
      "metadata": {
        "id": "RhHA4a3ZH-I3",
        "colab": {
          "base_uri": "https://localhost:8080/"
        },
        "outputId": "bd314eb6-4633-4617-dc99-e8e6856eead1"
      },
      "source": [
        "%cd tensorflow-yolo-v3/"
      ],
      "execution_count": null,
      "outputs": [
        {
          "output_type": "stream",
          "name": "stdout",
          "text": [
            "/content/tensorflow-yolo-v3\n"
          ]
        }
      ]
    },
    {
      "cell_type": "markdown",
      "metadata": {
        "id": "NEXaieEgFMrz"
      },
      "source": [
        "**Step 7b: Check input and output nodes of neural network**\n"
      ]
    },
    {
      "cell_type": "code",
      "source": [
        "import tensorflow.compat.v1 as tf"
      ],
      "metadata": {
        "id": "1xdxnL6rNpXW"
      },
      "execution_count": null,
      "outputs": []
    },
    {
      "cell_type": "code",
      "metadata": {
        "id": "w5CtnjgUFM6L",
        "colab": {
          "base_uri": "https://localhost:8080/"
        },
        "outputId": "6100c314-0abc-4cd7-b62c-bca15bb18bd9"
      },
      "source": [
        "gf = tf.GraphDef()   \n",
        "m_file = open('frozen_darknet_yolov3_model.pb','rb')\n",
        "gf.ParseFromString(m_file.read())\n",
        "\n",
        "with open('somefile.txt', 'a') as the_file:\n",
        "     for n in gf.node:\n",
        "         the_file.write(n.name+'\\n')\n",
        "\n",
        "file = open('somefile.txt','r')\n",
        "data = file.readlines()\n",
        "output = data[len(data)-1]\n",
        "print(\"Output array = \", output)\n",
        "\n",
        "file.seek ( 0 )\n",
        "input=file.readline()\n",
        "print(\"Input array = \", input)"
      ],
      "execution_count": null,
      "outputs": [
        {
          "output_type": "stream",
          "name": "stdout",
          "text": [
            "Output array =  output_boxes\n",
            "\n",
            "Input array =  inputs\n",
            "\n"
          ]
        }
      ]
    },
    {
      "cell_type": "markdown",
      "metadata": {
        "id": "2WrlQvOulsMR"
      },
      "source": [
        "**Step 8: Convert frozen_darknet_yolov3_model.pb to .tflite**"
      ]
    },
    {
      "cell_type": "code",
      "metadata": {
        "id": "dU7AODz3SqSv",
        "colab": {
          "base_uri": "https://localhost:8080/"
        },
        "outputId": "3103a14e-ddd8-4838-aa0c-5925715d6cfc"
      },
      "source": [
        "# Reference: https://github.com/sayakpaul/Adventures-in-TensorFlow-Lite/blob/master/DeepLabV3/DeepLab_TFLite_COCO.ipynb\n",
        "# Load the TensorFlow model\n",
        "# The preprocessing and the post-processing steps should not be included in the TF Lite model graph \n",
        "# because some operations (ArgMax) might not support the delegates. \n",
        "# Insepct the graph using Netron https://lutzroeder.github.io/netron/\n",
        "converter = tf.compat.v1.lite.TFLiteConverter.from_frozen_graph(\n",
        "    graph_def_file='/content/tensorflow-yolo-v3/frozen_darknet_yolov3_model.pb', \n",
        "    input_arrays = ['inputs'],   # Here, 'inputs' is the value of input array from Step 7b\n",
        "    output_arrays = ['output_boxes'], # Here, 'output_boxes' is the value of output array from Step 7b\n",
        "    input_shapes={'inputs': [1, 416, 416, 3]} # Here, 'inputs' is the value of input array from Step 7b\n",
        ")\n",
        "\n",
        "# Optional: Perform the simplest optimization known as post-training dynamic range quantization.\n",
        "# https://www.tensorflow.org/lite/performance/post_training_quantization#dynamic_range_quantization\n",
        "# You can refer to the same document for other types of optimizations.\n",
        "converter.optimizations = [tf.lite.Optimize.DEFAULT]\n",
        "\n",
        "# Convert to TFLite Model\n",
        "tflite_model = converter.convert()\n",
        "\n",
        "_, dynamic_tflite_path = tempfile.mkstemp('.tflite')\n",
        "tflite_model_size = open(dynamic_tflite_path, 'wb').write(tflite_model)\n",
        "tf_model_size = os.path.getsize('/content/tensorflow-yolo-v3/frozen_darknet_yolov3_model.pb')\n",
        "print('TensorFlow Model is  {} bytes'.format(tf_model_size))\n",
        "print('TFLite Model is      {} bytes'.format(tflite_model_size))\n",
        "print('Post training dynamic range quantization saves {} bytes'.format(tf_model_size-tflite_model_size))"
      ],
      "execution_count": null,
      "outputs": [
        {
          "output_type": "stream",
          "name": "stderr",
          "text": [
            "WARNING:absl:Buffer deduplication procedure will be skipped when flatbuffer library is not properly loaded\n"
          ]
        },
        {
          "output_type": "stream",
          "name": "stdout",
          "text": [
            "TensorFlow Model is  34821859 bytes\n",
            "TFLite Model is      8820320 bytes\n",
            "Post training dynamic range quantization saves 26001539 bytes\n"
          ]
        }
      ]
    },
    {
      "cell_type": "code",
      "metadata": {
        "id": "AjQjJzhtUldF",
        "colab": {
          "base_uri": "https://localhost:8080/"
        },
        "outputId": "6a3848ce-08f3-4d9b-ac2a-9304a8e1bcd3"
      },
      "source": [
        "!ls -lh {dynamic_tflite_path}"
      ],
      "execution_count": null,
      "outputs": [
        {
          "output_type": "stream",
          "name": "stdout",
          "text": [
            "-rw------- 1 root root 8.5M Jan 30 04:20 /tmp/tmpeytp10pn.tflite\n"
          ]
        }
      ]
    },
    {
      "cell_type": "markdown",
      "metadata": {
        "id": "66xGlBxuKkUW"
      },
      "source": [
        "**Step 9: Move the .tflite model into your Google Drive folder**"
      ]
    },
    {
      "cell_type": "code",
      "metadata": {
        "id": "YGm8KJnWfT9A",
        "colab": {
          "base_uri": "https://localhost:8080/"
        },
        "outputId": "bed853f8-517e-4fa0-d16d-d34f7b27d2bd"
      },
      "source": [
        "tflite_file = ''\n",
        "tflite_file = tflite_file.join(glob.glob(\"/tmp/*.tflite\")) # Find the temp file of type .tflite\n",
        "tflite_file = tflite_file[5:len(tflite_file)]  # Extract .tflite file name.\n",
        "\n",
        "%cd ..\n",
        "%cd ../tmp\n",
        "os.rename(tflite_file, 'detect.tflite') # Rename the temp .tflite to detect.tflite\n",
        "%mv detect.tflite ../content/gdrive/MyDrive/YOLOv3_TFLite/  # Move detect.tflite to Goolge Drive"
      ],
      "execution_count": null,
      "outputs": [
        {
          "output_type": "stream",
          "name": "stdout",
          "text": [
            "/content\n",
            "/tmp\n"
          ]
        }
      ]
    }
  ]
}